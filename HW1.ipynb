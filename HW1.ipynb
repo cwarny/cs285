{
 "cells": [
  {
   "cell_type": "markdown",
   "id": "ae332223",
   "metadata": {},
   "source": [
    "# Behavioral cloning"
   ]
  },
  {
   "cell_type": "markdown",
   "id": "4f3d9a30",
   "metadata": {},
   "source": [
    "Behavioral cloning is a basic approach to teaching artificial agents how to behave in an environment. The approach consists in teaching the agent to mimic the behavior of an agent in similar situations."
   ]
  },
  {
   "cell_type": "code",
   "execution_count": 161,
   "id": "cdd2e70d",
   "metadata": {},
   "outputs": [],
   "source": [
    "import pickle\n",
    "import numpy as np\n",
    "import torch\n",
    "import torch.nn as nn\n",
    "import torch.optim as optim\n",
    "import gym\n",
    "from dataclasses import dataclass\n",
    "import cv2\n",
    "from IPython.display import Video\n",
    "import json\n",
    "import pandas as pd\n",
    "import seaborn as sns\n",
    "from copy import deepcopy"
   ]
  },
  {
   "cell_type": "code",
   "execution_count": 162,
   "id": "82cf9e96",
   "metadata": {},
   "outputs": [
    {
     "data": {
      "text/plain": [
       "<torch._C.Generator at 0x110a731d0>"
      ]
     },
     "execution_count": 162,
     "metadata": {},
     "output_type": "execute_result"
    }
   ],
   "source": [
    "# set seeds\n",
    "seed = 0\n",
    "np.random.seed(seed)\n",
    "torch.manual_seed(seed)"
   ]
  },
  {
   "cell_type": "markdown",
   "id": "488e66b8",
   "metadata": {},
   "source": [
    "We're going to use OpenAI's gym and in particular their \"Ant-v4\" environment, which is a 3D world with normal physics where a four-legged ant needs to learn to walk/run on an infinite plane."
   ]
  },
  {
   "cell_type": "code",
   "execution_count": 163,
   "id": "96b72449",
   "metadata": {},
   "outputs": [
    {
     "name": "stdout",
     "output_type": "stream",
     "text": [
      "The Ant-v4 environment has a 8-dimensional action space and a 111-dimensional observation space.\n"
     ]
    }
   ],
   "source": [
    "env_name = 'Ant-v4'\n",
    "env = gym.make(env_name, use_contact_forces=True, render_mode='rgb_array', terminate_when_unhealthy=False)\n",
    "act_dim = env.action_space.shape[0]\n",
    "obs_dim = env.observation_space.shape[0]\n",
    "print(f'The {env_name} environment has a {act_dim}-dimensional action space and a {obs_dim}-dimensional observation space.')"
   ]
  },
  {
   "cell_type": "markdown",
   "id": "e5b18de8",
   "metadata": {},
   "source": [
    "As per the [OpenAI gym documentation](https://www.gymlibrary.dev/), an observation in the Ant-v4 environment consists of \"positional values of different body parts of the ant, followed by the velocities of those individual parts (their derivatives) with all the positions ordered before all the velocities\" (this sums up to 111 different numbers, meaning an observation is a 111-dimensional object). An action, in turn, represents \"the torques applied at the hinge joints\" (there are 8 such joints so an action is a 8-dimensional object). Both the action space and the observation space, therefore, are continuous (real-valued). The goal of this environment is for the ant to learn how to walk/run toward the right. \n",
    "\n",
    "Check the [Ant-v4 documentation](https://www.gymlibrary.dev/environments/mujoco/ant/) for more details about the observation space, action space, and the way rewards are calculated."
   ]
  },
  {
   "cell_type": "code",
   "execution_count": 164,
   "id": "49604862",
   "metadata": {},
   "outputs": [],
   "source": [
    "def pprint(d): print(json.dumps(d, indent=4))"
   ]
  },
  {
   "cell_type": "code",
   "execution_count": 165,
   "id": "6fcf8557",
   "metadata": {},
   "outputs": [
    {
     "name": "stdout",
     "output_type": "stream",
     "text": [
      "action:  [ 0.55255     0.31260723 -0.6202682  -0.7472796   0.84378225 -0.3842947\n",
      "  0.81080663 -0.40647927]\n",
      "observation: [ 6.94464432e-01  9.99237701e-01 -3.21023765e-02 -2.02855106e-02\n",
      " -9.05272311e-03 -2.57070179e-02  3.61886737e-01  1.69830759e-01\n",
      " -4.55235848e-01  2.11830114e-01 -4.58859544e-01  4.50416827e-02\n",
      "  4.53627050e-01 -3.16915123e-01  4.03604237e-01  2.67254867e-01\n",
      " -6.94800670e-02  5.08523722e-01 -1.66107009e+00 -4.27602856e+00\n",
      "  8.04860752e+00  6.07402039e+00 -1.08041623e+01  5.84466592e+00\n",
      " -1.10181402e+01  3.97595076e+00  1.01739680e+01  0.00000000e+00\n",
      "  0.00000000e+00  0.00000000e+00  0.00000000e+00  0.00000000e+00\n",
      "  0.00000000e+00  0.00000000e+00  0.00000000e+00  0.00000000e+00\n",
      "  0.00000000e+00  0.00000000e+00  0.00000000e+00  0.00000000e+00\n",
      "  0.00000000e+00  0.00000000e+00  0.00000000e+00  0.00000000e+00\n",
      "  0.00000000e+00  0.00000000e+00  0.00000000e+00  0.00000000e+00\n",
      "  0.00000000e+00  0.00000000e+00  0.00000000e+00  0.00000000e+00\n",
      "  0.00000000e+00  0.00000000e+00  0.00000000e+00  0.00000000e+00\n",
      "  0.00000000e+00  0.00000000e+00  0.00000000e+00  0.00000000e+00\n",
      "  0.00000000e+00  0.00000000e+00  0.00000000e+00  0.00000000e+00\n",
      "  0.00000000e+00  0.00000000e+00  0.00000000e+00  0.00000000e+00\n",
      "  0.00000000e+00  0.00000000e+00  0.00000000e+00  0.00000000e+00\n",
      "  0.00000000e+00  0.00000000e+00  0.00000000e+00  0.00000000e+00\n",
      "  0.00000000e+00  0.00000000e+00  0.00000000e+00  0.00000000e+00\n",
      "  0.00000000e+00  0.00000000e+00  0.00000000e+00  0.00000000e+00\n",
      "  0.00000000e+00  0.00000000e+00  0.00000000e+00  0.00000000e+00\n",
      "  0.00000000e+00  0.00000000e+00  0.00000000e+00  0.00000000e+00\n",
      "  0.00000000e+00  0.00000000e+00  0.00000000e+00  0.00000000e+00\n",
      "  0.00000000e+00  0.00000000e+00  0.00000000e+00  0.00000000e+00\n",
      "  0.00000000e+00  0.00000000e+00  0.00000000e+00  0.00000000e+00\n",
      "  0.00000000e+00  0.00000000e+00  0.00000000e+00  0.00000000e+00\n",
      "  0.00000000e+00  0.00000000e+00  0.00000000e+00]\n",
      "{\n",
      "    \"reward_forward\": -0.1710627113334645,\n",
      "    \"reward_ctrl\": -0.0,\n",
      "    \"reward_survive\": 1.0,\n",
      "    \"x_position\": -0.07756633995976232,\n",
      "    \"y_position\": -0.08126591196652043,\n",
      "    \"distance_from_origin\": 0.11234182454679856,\n",
      "    \"x_velocity\": -0.1710627113334645,\n",
      "    \"y_velocity\": 0.2277814949549159,\n",
      "    \"forward_reward\": -0.1710627113334645\n",
      "}\n"
     ]
    }
   ],
   "source": [
    "env.reset() # needed before we can \"step\" a policy through an environment\n",
    "ac = env.action_space.sample()\n",
    "print('action: ', ac)\n",
    "ob, rew, done, truncated, info = env.step(ac)\n",
    "print('observation:', ob)\n",
    "pprint(info)"
   ]
  },
  {
   "cell_type": "markdown",
   "id": "64080ed6",
   "metadata": {},
   "source": [
    "The reward at each step is a function of whether the ant is going in the right direction and has good control. See [the documentation](https://www.gymlibrary.dev/environments/mujoco/ant/#rewards) for more details. The variable `done` is a boolean for whether the ant has reached 1000 steps (the maximum number of steps in the environment). The variable `truncated` is also a boolean indicating whether the ant is unhealthy."
   ]
  },
  {
   "cell_type": "markdown",
   "id": "9c527f8f",
   "metadata": {},
   "source": [
    "## Dummy ant\n",
    "\n",
    "Our goal is to teach an agent (in this case, an ant) a \"policy\" for how to behave. A policy is a mapping from observation to action. To start, let's create a dummy policy where we randomly sample an action at each step:"
   ]
  },
  {
   "cell_type": "code",
   "execution_count": 166,
   "id": "e6176c50",
   "metadata": {},
   "outputs": [],
   "source": [
    "class DummyModel(nn.Module):\n",
    "    def __init__(self, env):\n",
    "        super().__init__()\n",
    "        self.env = env\n",
    "    \n",
    "    def forward(self, obs):\n",
    "        # obs is a tensor of shape (batch_size, obs_dim)\n",
    "        ac = torch.from_numpy(np.array([self.env.action_space.sample() for _ in obs]))\n",
    "        # We sample a random action for each observation\n",
    "        # in our batch.\n",
    "        # `ac` has shape (batch_size, act_dim)\n",
    "        return ac"
   ]
  },
  {
   "cell_type": "markdown",
   "id": "a1cea279",
   "metadata": {},
   "source": [
    "When a policy is run, it creates a *rollout* (*episode* and *path* are two other common alternative terms for the same thing). A rollout is a sequence of observations, actions, and rewards. For each time step in a rollout, we also keep track of a boolean for whether the rollout has ended. Finally, we can also keep track of the visual information of the observations in the form of images. When running a policy in an environment, it's useful to create a `Rollout` class that will hold all that information for us. We also add a computed property to calculate the total reward accrued during an episode, which will prove useful later on."
   ]
  },
  {
   "cell_type": "code",
   "execution_count": 167,
   "id": "6f358a93",
   "metadata": {},
   "outputs": [],
   "source": [
    "@dataclass\n",
    "class Rollout:\n",
    "    observation: np.ndarray\n",
    "    action: np.ndarray\n",
    "    next_observation: np.ndarray\n",
    "    reward: np.ndarray\n",
    "    terminal: np.ndarray\n",
    "    image_obs: np.ndarray = np.array([])\n",
    "    \n",
    "    @property\n",
    "    def total_reward(self): return self.reward.sum()\n",
    "    \n",
    "    def __len__(self): return len(self.reward)"
   ]
  },
  {
   "cell_type": "markdown",
   "id": "f0ac5559",
   "metadata": {},
   "source": [
    "Now let's write a function that runs a policy in a given environment."
   ]
  },
  {
   "cell_type": "code",
   "execution_count": 168,
   "id": "acbd0ebb",
   "metadata": {},
   "outputs": [],
   "source": [
    "def run_policy(env, policy, render=False):\n",
    "    policy.eval() # set the policy in evaluation mode, not training mode\n",
    "    ob, info = env.reset()\n",
    "    obs, acs, next_obs, rews, terminals, image_obs = [], [], [], [], [], []\n",
    "    steps = 0\n",
    "    while True:\n",
    "        if render:\n",
    "            image_obs.append(env.render())\n",
    "        obs.append(ob)\n",
    "        with torch.no_grad(): # we skip any gradient calculation because we are not training the policy\n",
    "            ob = torch.FloatTensor([ob]) # batch_size is 1\n",
    "            ac = policy(ob).squeeze(0).numpy() # squeeze(0) removes the batch dim\n",
    "        acs.append(ac)\n",
    "        ob, rew, done, truncated, info = env.step(ac)\n",
    "        next_obs.append(ob)\n",
    "        rews.append(rew)\n",
    "        terminals.append(int(done))\n",
    "        steps += 1\n",
    "        if done or steps == env.spec.max_episode_steps: break\n",
    "    args = obs, acs, next_obs, rews, terminals\n",
    "    args = map(lambda a: np.array(a, dtype=np.float32), args)\n",
    "    if render:\n",
    "        image_obs = np.array(image_obs, dtype=np.float32)\n",
    "        rollout = Rollout(*args, image_obs)\n",
    "    else:\n",
    "        rollout = Rollout(*args)\n",
    "    return rollout"
   ]
  },
  {
   "cell_type": "markdown",
   "id": "c4533e13",
   "metadata": {},
   "source": [
    "Next we run our dummy policy:"
   ]
  },
  {
   "cell_type": "code",
   "execution_count": 169,
   "id": "18c5b54d",
   "metadata": {},
   "outputs": [],
   "source": [
    "dummy_ant = DummyModel(env)\n",
    "rollout = run_policy(env, dummy_ant, render=True)"
   ]
  },
  {
   "cell_type": "markdown",
   "id": "3d906e7d",
   "metadata": {},
   "source": [
    "We can visualize our `rollout` by saving the rollout's frames as a video. Let's write a quick utility function to do just that, and then let's play the video."
   ]
  },
  {
   "cell_type": "code",
   "execution_count": 170,
   "id": "ef8d98e0",
   "metadata": {},
   "outputs": [],
   "source": [
    "def save_vid(image_obs, fn, fps=30, duration=10):\n",
    "    size = image_obs.shape[1:3]\n",
    "    images = list(image_obs)[:fps*duration]\n",
    "    out = cv2.VideoWriter(fn, cv2.VideoWriter_fourcc(*'VP90'), fps, (size[1], size[0]), True)\n",
    "    for img in images: out.write(img.astype('uint8'))\n",
    "    out.release()"
   ]
  },
  {
   "cell_type": "code",
   "execution_count": 171,
   "id": "16424c44",
   "metadata": {},
   "outputs": [
    {
     "name": "stderr",
     "output_type": "stream",
     "text": [
      "OpenCV: FFMPEG: tag 0x30395056/'VP90' is not supported with codec id 167 and format 'mp4 / MP4 (MPEG-4 Part 14)'\n",
      "OpenCV: FFMPEG: fallback to use tag 0x39307076/'vp09'\n"
     ]
    }
   ],
   "source": [
    "save_vid(rollout.image_obs, 'assets/dummy-ant.mp4')"
   ]
  },
  {
   "cell_type": "code",
   "execution_count": 172,
   "id": "1c5abc06",
   "metadata": {},
   "outputs": [
    {
     "data": {
      "text/html": [
       "<video src=\"assets/dummy-ant.mp4\" controls  >\n",
       "      Your browser does not support the <code>video</code> element.\n",
       "    </video>"
      ],
      "text/plain": [
       "<IPython.core.display.Video object>"
      ]
     },
     "execution_count": 172,
     "metadata": {},
     "output_type": "execute_result"
    }
   ],
   "source": [
    "Video('assets/dummy-ant.mp4')"
   ]
  },
  {
   "cell_type": "markdown",
   "id": "fc9ca3e1",
   "metadata": {},
   "source": [
    "As we can see, the ant doesn't have much control and definitely doesn't know how to walk toward the right. This is expected since we are drawing actions at random. Instead of a dummy model, let's create a model with an actual brain that is able to learn. The brain is a simple multilayer perceptron that takes a batch of observations as input and outputs a batch of actions.\n",
    "\n",
    "## Deterministic ant"
   ]
  },
  {
   "cell_type": "code",
   "execution_count": 173,
   "id": "298f4ce5",
   "metadata": {},
   "outputs": [],
   "source": [
    "class DeterministicModel(nn.Module):\n",
    "    def __init__(self, obs_dim, act_dim, hidden_dim=64):\n",
    "        super().__init__()\n",
    "        self.net = nn.Sequential(\n",
    "            nn.Linear(obs_dim, hidden_dim),\n",
    "            nn.Tanh(),\n",
    "            nn.Linear(hidden_dim, hidden_dim),\n",
    "            nn.Tanh(),\n",
    "            nn.Linear(hidden_dim, act_dim)\n",
    "        )\n",
    "    \n",
    "    def forward(self, obs):\n",
    "        return self.net(obs)"
   ]
  },
  {
   "cell_type": "markdown",
   "id": "543c9f7c",
   "metadata": {},
   "source": [
    "Before we can run that policy, though, we need to *train* it. The policy needs to learn a good mapping from observation to action. The typical ML approach is to find \"supervision\": sample a bunch of observations at random and ask an expert: what action would you take in this situation? Let's further assume we happen to have such an expert on hand and that we recorded them complete the task at hand--meaning we have a few \"rollouts\" for the expert."
   ]
  },
  {
   "cell_type": "code",
   "execution_count": 174,
   "id": "c9a1525e",
   "metadata": {},
   "outputs": [],
   "source": [
    "expert_data_path = './expert_data/expert_data_Ant-v4.pkl'\n",
    "with open(expert_data_path, 'rb') as f:\n",
    "    expert_rollouts = pickle.loads(f.read())"
   ]
  },
  {
   "cell_type": "code",
   "execution_count": 175,
   "id": "ccd1cdb7",
   "metadata": {},
   "outputs": [
    {
     "name": "stdout",
     "output_type": "stream",
     "text": [
      "We have 2 rollouts from the expert.\n"
     ]
    }
   ],
   "source": [
    "print(f'We have {len(expert_rollouts)} rollouts from the expert.')"
   ]
  },
  {
   "cell_type": "markdown",
   "id": "ec402d74",
   "metadata": {},
   "source": [
    "Let's wrap them in our `Rollout` class:"
   ]
  },
  {
   "cell_type": "code",
   "execution_count": 176,
   "id": "5bee8717",
   "metadata": {},
   "outputs": [],
   "source": [
    "expert_rollouts = [Rollout(**rollout) for rollout in expert_rollouts]\n",
    "assert obs_dim == expert_rollouts[0].observation.shape[1]\n",
    "assert act_dim == expert_rollouts[0].action.shape[1]"
   ]
  },
  {
   "cell_type": "markdown",
   "id": "eb927562",
   "metadata": {},
   "source": [
    "Unfortunately we can't *watch* the expert at work because we didn't turn the camera on while it was doing its thing in the environment. But we did record everything else, which is what we need to train our model. What we want to do now is sample (observation, action) pairs at random from across the expert rollouts, and train our model, just like in regular supervised learning. Let's call such an (observation, action) pair a \"step\". When we sample at random, the steps won't be part of a natural sequence, it's just like picking frames from a video at random. Let's create an object that will save rollouts and can sample at random from them. Such a structure is often call a \"replay buffer\" in reinforcement learning, but it's really just like any randomly shuffled dataset in any kind of supervised learning task."
   ]
  },
  {
   "cell_type": "code",
   "execution_count": 177,
   "id": "ecb5eb98",
   "metadata": {},
   "outputs": [],
   "source": [
    "class ReplayBuffer:\n",
    "    def __init__(self, max_size=1000000):\n",
    "        self.max_size = max_size\n",
    "        self.rollouts = []\n",
    "    \n",
    "    def add_rollout(self, rollout):\n",
    "        if not isinstance(rollout, Rollout):\n",
    "            rollout = Rollout(**rollout)\n",
    "        self.rollouts.append(rollout)\n",
    "        \n",
    "    def add_rollouts(self, rollouts):\n",
    "        for rollout in rollouts: self.add_rollout(rollout)\n",
    "        self.observations = np.concatenate([r.observation[-self.max_size:] for r in self.rollouts])\n",
    "        self.actions = np.concatenate([r.action[-self.max_size:] for r in self.rollouts])\n",
    "        self.rewards = np.concatenate([r.reward[-self.max_size:] for r in self.rollouts])\n",
    "        self.next_observations = np.concatenate([r.next_observation[-self.max_size:] for r in self.rollouts])\n",
    "        self.terminals = np.concatenate([r.terminal[-self.max_size:] for r in self.rollouts])\n",
    "    \n",
    "    def sample_steps(self, n):\n",
    "        '''Sample `n` steps at random from across the \n",
    "        rollouts saved to the buffer'''\n",
    "        indices = np.arange(self.observations.shape[0])\n",
    "        selection = np.random.permutation(indices)[:n]\n",
    "        return self.observations[selection], self.actions[selection]"
   ]
  },
  {
   "cell_type": "markdown",
   "id": "e8a33582",
   "metadata": {},
   "source": [
    "Now let's save the expert rollouts to the replay buffer:"
   ]
  },
  {
   "cell_type": "code",
   "execution_count": 178,
   "id": "62b01d16",
   "metadata": {},
   "outputs": [],
   "source": [
    "replay_buffer = ReplayBuffer()\n",
    "replay_buffer.add_rollouts(expert_rollouts)"
   ]
  },
  {
   "cell_type": "markdown",
   "id": "cae17d0f",
   "metadata": {},
   "source": [
    "We are ready to train!"
   ]
  },
  {
   "cell_type": "code",
   "execution_count": 179,
   "id": "b8f6c846",
   "metadata": {},
   "outputs": [],
   "source": [
    "learning_rate = 5e-3\n",
    "deterministic_ant = DeterministicModel(obs_dim, act_dim)\n",
    "loss_func = nn.MSELoss()\n",
    "optimizer = optim.Adam(deterministic_ant.parameters(), learning_rate)"
   ]
  },
  {
   "cell_type": "code",
   "execution_count": 180,
   "id": "336fd53e",
   "metadata": {},
   "outputs": [],
   "source": [
    "def train(model, replay_buffer, loss_func, optimizer, num_training_steps=1000, batch_size=100):\n",
    "    model.train()\n",
    "    train_loss = []\n",
    "    for train_step in range(num_training_steps):\n",
    "        obs, acs = replay_buffer.sample_steps(batch_size)\n",
    "        obs = torch.from_numpy(obs.astype(np.float32)).float()\n",
    "        acs = torch.from_numpy(acs.astype(np.float32)).float()\n",
    "        acs_pred = model(obs)\n",
    "        loss = loss_func(acs_pred, acs)\n",
    "        model.zero_grad()\n",
    "        loss.backward()\n",
    "        optimizer.step()\n",
    "        train_loss.append({'train_step': train_step, 'loss': loss.item()})\n",
    "    return train_loss"
   ]
  },
  {
   "cell_type": "code",
   "execution_count": 181,
   "id": "16603330",
   "metadata": {},
   "outputs": [],
   "source": [
    "train_loss = train(deterministic_ant, replay_buffer, loss_func, optimizer)"
   ]
  },
  {
   "cell_type": "code",
   "execution_count": 182,
   "id": "9b32a71c",
   "metadata": {},
   "outputs": [
    {
     "data": {
      "text/plain": [
       "<AxesSubplot:xlabel='train_step', ylabel='loss'>"
      ]
     },
     "execution_count": 182,
     "metadata": {},
     "output_type": "execute_result"
    },
    {
     "data": {
      "image/png": "[encoded data removed]",
      "text/plain": [
       "<Figure size 640x480 with 1 Axes>"
      ]
     },
     "metadata": {},
     "output_type": "display_data"
    }
   ],
   "source": [
    "sns.lineplot(data=pd.DataFrame(train_loss), x=\"train_step\", y=\"loss\")"
   ]
  },
  {
   "cell_type": "markdown",
   "id": "a6ab6704",
   "metadata": {},
   "source": [
    "Looks like *some* learning is happening."
   ]
  },
  {
   "cell_type": "markdown",
   "id": "813af2fc",
   "metadata": {},
   "source": [
    "Now that our agent has supposedly learned how to behave in this environment, let's turn our camera on and film the agent."
   ]
  },
  {
   "cell_type": "code",
   "execution_count": 183,
   "id": "6ec53e43",
   "metadata": {},
   "outputs": [
    {
     "name": "stderr",
     "output_type": "stream",
     "text": [
      "OpenCV: FFMPEG: tag 0x30395056/'VP90' is not supported with codec id 167 and format 'mp4 / MP4 (MPEG-4 Part 14)'\n",
      "OpenCV: FFMPEG: fallback to use tag 0x39307076/'vp09'\n"
     ]
    },
    {
     "data": {
      "text/html": [
       "<video src=\"assets/deterministic-ant.mp4\" controls  >\n",
       "      Your browser does not support the <code>video</code> element.\n",
       "    </video>"
      ],
      "text/plain": [
       "<IPython.core.display.Video object>"
      ]
     },
     "execution_count": 183,
     "metadata": {},
     "output_type": "execute_result"
    }
   ],
   "source": [
    "video_rollout = run_policy(env, deterministic_ant, render=True)\n",
    "save_vid(video_rollout.image_obs, 'assets/deterministic-ant.mp4')\n",
    "Video('assets/deterministic-ant.mp4')"
   ]
  },
  {
   "cell_type": "markdown",
   "id": "dddfbbb1",
   "metadata": {},
   "source": [
    "Looks good enough.\n",
    "\n",
    "## Stochastic ant\n",
    "\n",
    "Our student thus far has been using a *deterministic* policy. A common alternative is to use a *stochastic* policy. Instead of deterministically mapping an observation to an action, we map an observation to a *probability distribution over actions*. In practice we implement this stochasticity by having our neural net predict the parameters of some probability distribution over the action space. Since we are in continuous action space, a good choice for the probability distribution is the Gaussian distribution, whose mean and standard deviation are then the parameters our neural net will set."
   ]
  },
  {
   "cell_type": "code",
   "execution_count": 184,
   "id": "48ced597",
   "metadata": {},
   "outputs": [],
   "source": [
    "class StochasticModel(nn.Module):\n",
    "    def __init__(self, obs_dim, act_dim, hidden_dim=64):\n",
    "        super().__init__()\n",
    "        self.mean_net = nn.Sequential(\n",
    "            nn.Linear(obs_dim, hidden_dim),\n",
    "            nn.Tanh(),\n",
    "            nn.Linear(hidden_dim, hidden_dim),\n",
    "            nn.Tanh(),\n",
    "            nn.Linear(hidden_dim, act_dim)\n",
    "        )\n",
    "        # init the logstd to be 0 for each dim\n",
    "        # same as init the std to be 1 for each dim\n",
    "        self.logstd = nn.Parameter(torch.zeros(act_dim, dtype=torch.float32)) \n",
    "    \n",
    "    def forward(self, obs):\n",
    "        mean = self.mean_net(obs)\n",
    "        std = self.logstd.exp() # numerical considerations\n",
    "        return torch.distributions.normal.Normal(mean, std).rsample()"
   ]
  },
  {
   "cell_type": "markdown",
   "id": "53db3d83",
   "metadata": {},
   "source": [
    "The method `.rsample()` is called on the probability distribution object (or a \"random variable\"--specifically in this case a \"normal\" or Gaussian random variable) to fetch an action. It samples while doing the so-called \"reparameterization trick\" (which is why the method is called \"R\"-sample). As the PyTorch documentation [explains](https://pytorch.org/docs/stable/distributions.html#pathwise-derivative), this \"trick\" consists in substituting a parameterized random variable with a parameterized deterministic function of a parameter-free random variable. This allows one to calculate the gradient through the random variable in our computational graph."
   ]
  },
  {
   "cell_type": "code",
   "execution_count": 185,
   "id": "368b2d94",
   "metadata": {},
   "outputs": [],
   "source": [
    "stochastic_ant = StochasticModel(obs_dim, act_dim)\n",
    "optimizer = optim.Adam(stochastic_ant.parameters(), learning_rate)\n",
    "_ = train(stochastic_ant, replay_buffer, loss_func, optimizer)"
   ]
  },
  {
   "cell_type": "code",
   "execution_count": 186,
   "id": "c2225ed4",
   "metadata": {},
   "outputs": [
    {
     "name": "stderr",
     "output_type": "stream",
     "text": [
      "OpenCV: FFMPEG: tag 0x30395056/'VP90' is not supported with codec id 167 and format 'mp4 / MP4 (MPEG-4 Part 14)'\n",
      "OpenCV: FFMPEG: fallback to use tag 0x39307076/'vp09'\n"
     ]
    },
    {
     "data": {
      "text/html": [
       "<video src=\"assets/stochastic-ant-tricky-start.mp4\" controls  >\n",
       "      Your browser does not support the <code>video</code> element.\n",
       "    </video>"
      ],
      "text/plain": [
       "<IPython.core.display.Video object>"
      ]
     },
     "execution_count": 186,
     "metadata": {},
     "output_type": "execute_result"
    }
   ],
   "source": [
    "video_rollout = run_policy(env, stochastic_ant, render=True)\n",
    "save_vid(video_rollout.image_obs, 'assets/stochastic-ant-tricky-start.mp4')\n",
    "Video('assets/stochastic-ant-tricky-start.mp4')"
   ]
  },
  {
   "cell_type": "markdown",
   "id": "1889e8a7",
   "metadata": {},
   "source": [
    "Whoops, in this specific run of the stochastic ant, it happened to trip over. Is this to say that a stochastic policy is worse than a deterministic policy? To do a proper comparison, we need to look across many different rollouts and see if there is any significant difference in the rewards achieved by the deterministic ant on the one hand, and the stochastic hand on the other hand.\n",
    "\n",
    "Let's write some functions to help us do that."
   ]
  },
  {
   "cell_type": "code",
   "execution_count": 187,
   "id": "37a2d102",
   "metadata": {},
   "outputs": [],
   "source": [
    "def evaluate_policy(env, policy, num_evaluation_steps=1000):\n",
    "    '''\n",
    "    Run the policy for `num_evaluation_steps` steps to collect \n",
    "    performance metrics.\n",
    "    We may need to run the policy multiple times (run multiple episode) \n",
    "    to collect `num_evaluation_steps` as an episode might either terminate\n",
    "    or get truncated earlier than that.\n",
    "    '''\n",
    "    policy.eval()\n",
    "    rollouts = []\n",
    "    i = 0\n",
    "    while i < num_evaluation_steps:\n",
    "        rollout = run_policy(env, policy, render=False)\n",
    "        rollouts.append(rollout)\n",
    "        i += len(rollout)\n",
    "    return rollouts\n",
    "\n",
    "def get_metrics(rollouts):\n",
    "    returns = [rollout.total_reward for rollout in rollouts]\n",
    "    ep_lens = [len(rollout) for rollout in rollouts]\n",
    "    return {\n",
    "        'avg_rollout_return': float(np.mean(returns)),\n",
    "        'std_rollout_return': float(np.std(returns)),\n",
    "        'avg_rollout_ep_len': float(np.mean(ep_lens))\n",
    "    }"
   ]
  },
  {
   "cell_type": "code",
   "execution_count": 188,
   "id": "b8d948bd",
   "metadata": {},
   "outputs": [
    {
     "name": "stdout",
     "output_type": "stream",
     "text": [
      "Deterministic ant:\n",
      "{\n",
      "    \"avg_rollout_return\": 4710.3974609375,\n",
      "    \"std_rollout_return\": 75.72673797607422,\n",
      "    \"avg_rollout_ep_len\": 1000.0\n",
      "}\n",
      "\n",
      "Stochastic ant:\n",
      "{\n",
      "    \"avg_rollout_return\": 1176.189697265625,\n",
      "    \"std_rollout_return\": 337.6606140136719,\n",
      "    \"avg_rollout_ep_len\": 1000.0\n",
      "}\n"
     ]
    }
   ],
   "source": [
    "eval_rollouts_deterministic_ant = evaluate_policy(env, deterministic_ant, num_evaluation_steps=10000)\n",
    "eval_rollouts_stochastic_ant = evaluate_policy(env, stochastic_ant, num_evaluation_steps=10000)\n",
    "print('Deterministic ant:')\n",
    "pprint(get_metrics(eval_rollouts_deterministic_ant))\n",
    "print()\n",
    "print('Stochastic ant:')\n",
    "pprint(get_metrics(eval_rollouts_stochastic_ant))"
   ]
  },
  {
   "cell_type": "markdown",
   "id": "2e88fae3",
   "metadata": {},
   "source": [
    "It seems like the deterministic ant is doing better: higher average return and lower variance. Which is better--deterministic or stochastic--mostly depends on the nature of the environment. For example, if the environment is inherently stochastic, a stochastic might end up more appropriate. And as [this StackOverflow answer](https://ai.stackexchange.com/a/11652) suggests, \"under some reasonable assumptions--like that the environment is fully-observed and is stationary--an optimal deterministic policy always exists... The same cannot be said for stochastic polices.\" In our case, the environment is *not* inherently stochastic--it's regulated by Newtonian physics--and it is fully observed, since our \"observation\" is a 111-dimensional vector fully specifying the state of the environment. It therefore makes sense that the deterministic ant does better than the stochastic ant."
   ]
  },
  {
   "cell_type": "markdown",
   "id": "bfd9f5a1",
   "metadata": {},
   "source": [
    "## Limitations of behavioral cloning\n",
    "\n",
    "There is, however, one problem with the behavioral cloning approach. Our ant--whether stochastic or deterministic--has only learned by watching videos of an expert and then getting evaluated directly. There was no *learning by doing*; no \"trial and error\".\n",
    "\n",
    "Neural nets can generalize to some extent, but how would it fare if we started the environment in a very different state? To simulate that, we change a configuration in the \"making\" of the environment: specifically, we increase the noise on the positional values of the ant when the environment is initialized. We set `reset_noise_scale` to 2 (the default is 0.1)."
   ]
  },
  {
   "cell_type": "code",
   "execution_count": 191,
   "id": "a640b469",
   "metadata": {},
   "outputs": [],
   "source": [
    "env = gym.make(env_name, use_contact_forces=True, render_mode='rgb_array', terminate_when_unhealthy=False, reset_noise_scale=2)"
   ]
  },
  {
   "cell_type": "markdown",
   "id": "171c23fd",
   "metadata": {},
   "source": [
    "Now let's put the same deterministic ant in this slightly different environment and see how it behaves."
   ]
  },
  {
   "cell_type": "code",
   "execution_count": 194,
   "id": "4baf406e",
   "metadata": {},
   "outputs": [
    {
     "name": "stderr",
     "output_type": "stream",
     "text": [
      "OpenCV: FFMPEG: tag 0x30395056/'VP90' is not supported with codec id 167 and format 'mp4 / MP4 (MPEG-4 Part 14)'\n",
      "OpenCV: FFMPEG: fallback to use tag 0x39307076/'vp09'\n"
     ]
    },
    {
     "data": {
      "text/html": [
       "<video src=\"assets/deterministic-ant-tricky-start.mp4\" controls  >\n",
       "      Your browser does not support the <code>video</code> element.\n",
       "    </video>"
      ],
      "text/plain": [
       "<IPython.core.display.Video object>"
      ]
     },
     "execution_count": 194,
     "metadata": {},
     "output_type": "execute_result"
    }
   ],
   "source": [
    "video_rollout = run_policy(env, deterministic_ant, render=True)\n",
    "save_vid(video_rollout.image_obs, 'assets/deterministic-ant-tricky-start.mp4')\n",
    "Video('assets/deterministic-ant-tricky-start.mp4')"
   ]
  },
  {
   "cell_type": "markdown",
   "id": "2e50e1b8",
   "metadata": {},
   "source": [
    "The deterministic ant is doing much worse! Let's again compare the deterministic and stochastic ants over multiple rollouts."
   ]
  },
  {
   "cell_type": "code",
   "execution_count": 195,
   "id": "a3ab0957",
   "metadata": {},
   "outputs": [
    {
     "name": "stdout",
     "output_type": "stream",
     "text": [
      "Deterministic ant:\n",
      "{\n",
      "    \"avg_rollout_return\": 1031.725830078125,\n",
      "    \"std_rollout_return\": 1859.4903564453125,\n",
      "    \"avg_rollout_ep_len\": 1000.0\n",
      "}\n",
      "\n",
      "Stochastic ant:\n",
      "{\n",
      "    \"avg_rollout_return\": 418.171142578125,\n",
      "    \"std_rollout_return\": 322.150634765625,\n",
      "    \"avg_rollout_ep_len\": 1000.0\n",
      "}\n"
     ]
    }
   ],
   "source": [
    "eval_rollouts_deterministic_ant = evaluate_policy(env, deterministic_ant, num_evaluation_steps=10000)\n",
    "eval_rollouts_stochastic_ant = evaluate_policy(env, stochastic_ant, num_evaluation_steps=10000)\n",
    "print('Deterministic ant:')\n",
    "pprint(get_metrics(eval_rollouts_deterministic_ant))\n",
    "print()\n",
    "print('Stochastic ant:')\n",
    "pprint(get_metrics(eval_rollouts_stochastic_ant))"
   ]
  },
  {
   "cell_type": "markdown",
   "id": "d1426da7",
   "metadata": {},
   "source": [
    "Both are doing much worse, but still the deterministic ant maintains an edge over the stochastic ant.\n",
    "\n",
    "Let's see how we can add some *learning by doing*."
   ]
  },
  {
   "cell_type": "markdown",
   "id": "90dc7eba",
   "metadata": {},
   "source": [
    "# Learning by doing\n",
    "\n",
    "As we hinted, our learning ant suffers from a lack of exploration, as all its learning comes from watching a couple of videos of an expert ant. As we saw, if we put it in unfamiliar settings, the ant gets confused. What we want ideally is for our learning ant to explore the environment, try different things, and then eventually debrief with an expert. Together with the expert, it would go over the footage of its performance, and the expert would critique it, explaining what the learning ant could've done better at different points. Rather than just watching videos, the learning ant now gets to explore the space and use an active coach that tells it how to improve.\n",
    "\n",
    "This approach is known as \"DAgger\", which stands for \"data aggregation\" (see the paper [here](https://www.cs.cmu.edu/~sross1/publications/Ross-AIStats11-NoRegret.pdf)). The basic idea is that, after bootstrapping our ant with the behavioral cloning approach, we then let it explore the environment for some time while we film it. Then we sit the student ant down with the expert and they watch the footage together. The expert ant then tells its student how it would have behaved in every situation the student found itself while exploring the environment on its own. The student learns from these debriefing sessions. Repeat. That's it!\n",
    "\n",
    "To be able to do that, though, we need something more than just a couple of videos of the expert at work. We actually need to bring the expert in *in person*. In practice, that means we need its neural network, or in other words its policy.\n",
    "\n",
    "Let's first bring in the expert ant. First we define it (it's very similar to our student ant). Then we load its pretrained weights."
   ]
  },
  {
   "cell_type": "code",
   "execution_count": 196,
   "id": "eae2fdeb",
   "metadata": {},
   "outputs": [],
   "source": [
    "class ExpertModel(nn.Module):\n",
    "    def __init__(self, obs_dim, act_dim, hidden_dim=64):\n",
    "        super().__init__()\n",
    "        self.obs_norm_mean = nn.Parameter(torch.zeros((1,obs_dim)))\n",
    "        self.obs_norm_std = nn.Parameter(torch.zeros((1,obs_dim)))\n",
    "        self.hidden_layers = nn.ModuleList([\n",
    "            nn.Linear(obs_dim, hidden_dim),\n",
    "            nn.Linear(hidden_dim, hidden_dim),\n",
    "        ])\n",
    "        self.non_lin = nn.Tanh()\n",
    "        self.output_layer = nn.Linear(hidden_dim, act_dim)\n",
    "    \n",
    "    def forward(self, obs):\n",
    "        normed_obs = (obs - self.obs_norm_mean) / (self.obs_norm_std + 1e-6)\n",
    "        h = normed_obs\n",
    "        for layer in self.hidden_layers:\n",
    "            h = layer(h)\n",
    "            h = self.non_lin(h)\n",
    "        return self.output_layer(h)"
   ]
  },
  {
   "cell_type": "markdown",
   "id": "acf01ffa",
   "metadata": {},
   "source": [
    "Let's not forget to recreate our environment with the default initialization."
   ]
  },
  {
   "cell_type": "code",
   "execution_count": 197,
   "id": "29afd347",
   "metadata": {},
   "outputs": [],
   "source": [
    "env = gym.make(env_name, use_contact_forces=True, render_mode='rgb_array', terminate_when_unhealthy=False)"
   ]
  },
  {
   "cell_type": "code",
   "execution_count": 198,
   "id": "7fcb33a7",
   "metadata": {},
   "outputs": [],
   "source": [
    "def run_training_loop(num_iterations, env, student_policy, expert_policy, \n",
    "        replay_buffer, expert_data, loss_func, optimizer, num_evaluation_steps=10000):\n",
    "    expert_policy.eval()\n",
    "    replay_buffer.add_rollouts(expert_data) # seed the replay buffer with the expert videos\n",
    "    metrics = []\n",
    "    rollouts = []\n",
    "    for i in range(num_iterations):\n",
    "        # Train the student ant by sampling from the replay buffer.\n",
    "        # At first, the replay buffer only contains expert data.\n",
    "        # As we go, we will fill the replay buffer with student\n",
    "        # rollouts \"debriefed\" with the expert ant\n",
    "        train_loss = train(student_policy, replay_buffer, loss_func, optimizer)\n",
    "        \n",
    "        # explore\n",
    "        student_rollouts = evaluate_policy(env, student_policy, \n",
    "            num_evaluation_steps=num_evaluation_steps)\n",
    "        rollouts.append(student_rollouts)\n",
    "        eval_metrics = get_metrics(student_rollouts)\n",
    "        eval_metrics['train_loss'] = train_loss[-1]['loss']\n",
    "        eval_metrics['iteration'] = i\n",
    "        pprint(eval_metrics)\n",
    "        metrics.append(eval_metrics)\n",
    "\n",
    "        # \"debrief\", aka ask the expert ant what it would have done\n",
    "        debriefed_rollouts = []\n",
    "        for student_rollout in student_rollouts:\n",
    "            # copying so `student_rollouts` still reflects the actions \n",
    "            # taken by the student, not the actions corrected by the expert\n",
    "            debriefed_rollout = deepcopy(student_rollout)\n",
    "            obs_batch = debriefed_rollout.observation\n",
    "            with torch.no_grad():\n",
    "                obs_batch = torch.from_numpy(obs_batch).float()\n",
    "                act_batch = expert_policy(obs_batch)\n",
    "                act_batch = act_batch.numpy()\n",
    "            debriefed_rollout.action = act_batch\n",
    "            debriefed_rollouts.append(debriefed_rollout)\n",
    "\n",
    "        # add \"corrected\" student rollouts to the buffer\n",
    "        replay_buffer.add_rollouts(debriefed_rollouts)\n",
    "    return metrics, rollouts"
   ]
  },
  {
   "cell_type": "code",
   "execution_count": 215,
   "id": "1bb531fc",
   "metadata": {},
   "outputs": [
    {
     "name": "stdout",
     "output_type": "stream",
     "text": [
      "{\n",
      "    \"avg_rollout_return\": 4482.587890625,\n",
      "    \"std_rollout_return\": 92.59928894042969,\n",
      "    \"avg_rollout_ep_len\": 1000.0,\n",
      "    \"train_loss\": 0.0018948790384456515,\n",
      "    \"iteration\": 0\n",
      "}\n",
      "{\n",
      "    \"avg_rollout_return\": 4734.88525390625,\n",
      "    \"std_rollout_return\": 122.81387329101562,\n",
      "    \"avg_rollout_ep_len\": 1000.0,\n",
      "    \"train_loss\": 0.0014976081438362598,\n",
      "    \"iteration\": 1\n",
      "}\n",
      "{\n",
      "    \"avg_rollout_return\": 4684.1875,\n",
      "    \"std_rollout_return\": 101.32575988769531,\n",
      "    \"avg_rollout_ep_len\": 1000.0,\n",
      "    \"train_loss\": 0.0011810767464339733,\n",
      "    \"iteration\": 2\n",
      "}\n",
      "{\n",
      "    \"avg_rollout_return\": 4528.37451171875,\n",
      "    \"std_rollout_return\": 676.86474609375,\n",
      "    \"avg_rollout_ep_len\": 1000.0,\n",
      "    \"train_loss\": 0.0011858310317620635,\n",
      "    \"iteration\": 3\n",
      "}\n",
      "{\n",
      "    \"avg_rollout_return\": 4782.2001953125,\n",
      "    \"std_rollout_return\": 101.07830047607422,\n",
      "    \"avg_rollout_ep_len\": 1000.0,\n",
      "    \"train_loss\": 0.0008683454361744225,\n",
      "    \"iteration\": 4\n",
      "}\n",
      "{\n",
      "    \"avg_rollout_return\": 4817.53466796875,\n",
      "    \"std_rollout_return\": 72.09188079833984,\n",
      "    \"avg_rollout_ep_len\": 1000.0,\n",
      "    \"train_loss\": 0.0008856074418872595,\n",
      "    \"iteration\": 5\n",
      "}\n",
      "{\n",
      "    \"avg_rollout_return\": 4812.2333984375,\n",
      "    \"std_rollout_return\": 79.85365295410156,\n",
      "    \"avg_rollout_ep_len\": 1000.0,\n",
      "    \"train_loss\": 0.0011098458198830485,\n",
      "    \"iteration\": 6\n",
      "}\n",
      "{\n",
      "    \"avg_rollout_return\": 4720.75634765625,\n",
      "    \"std_rollout_return\": 93.23250579833984,\n",
      "    \"avg_rollout_ep_len\": 1000.0,\n",
      "    \"train_loss\": 0.0007732281228527427,\n",
      "    \"iteration\": 7\n",
      "}\n",
      "{\n",
      "    \"avg_rollout_return\": 4741.76611328125,\n",
      "    \"std_rollout_return\": 88.34866333007812,\n",
      "    \"avg_rollout_ep_len\": 1000.0,\n",
      "    \"train_loss\": 0.0005282555357553065,\n",
      "    \"iteration\": 8\n",
      "}\n",
      "{\n",
      "    \"avg_rollout_return\": 4708.3544921875,\n",
      "    \"std_rollout_return\": 72.36538696289062,\n",
      "    \"avg_rollout_ep_len\": 1000.0,\n",
      "    \"train_loss\": 0.0007797843427397311,\n",
      "    \"iteration\": 9\n",
      "}\n"
     ]
    }
   ],
   "source": [
    "replay_buffer = ReplayBuffer()\n",
    "expert_ant = ExpertModel(obs_dim, act_dim)\n",
    "expert_ant.load_state_dict(torch.load('./expert_policies/Ant.pt'))\n",
    "student_ant = DeterministicModel(obs_dim, act_dim)\n",
    "optimizer = optim.Adam(student_ant.parameters(), learning_rate)\n",
    "num_iterations = 10\n",
    "metrics, rollouts = run_training_loop(num_iterations, env, student_ant, expert_ant, \n",
    "    replay_buffer, expert_rollouts, loss_func, optimizer)"
   ]
  },
  {
   "cell_type": "markdown",
   "id": "64e1f844",
   "metadata": {},
   "source": [
    "Let's compare the performance of the student as it learns to that of the expert. For that, let's simulate the same number of rollouts for the expert."
   ]
  },
  {
   "cell_type": "code",
   "execution_count": 216,
   "id": "4c6e11fd",
   "metadata": {},
   "outputs": [],
   "source": [
    "student_rewards = pd.DataFrame([\n",
    "    {'return': r.total_reward, 'training_iteration': i} \n",
    "    for i,eval_rollouts in enumerate(rollouts) \n",
    "    for r in eval_rollouts\n",
    "])\n",
    "\n",
    "expert_eval_rollouts = [\n",
    "    evaluate_policy(env, expert_ant, num_evaluation_steps=10000)\n",
    "    for _ in range(num_iterations)\n",
    "]\n",
    "\n",
    "expert_rewards = pd.DataFrame([\n",
    "    {'return': r.total_reward, 'training_iteration': i} \n",
    "    for i,eval_rollouts in enumerate(expert_eval_rollouts) \n",
    "    for r in eval_rollouts\n",
    "])"
   ]
  },
  {
   "cell_type": "code",
   "execution_count": 217,
   "id": "c757c8a9",
   "metadata": {},
   "outputs": [
    {
     "data": {
      "text/plain": [
       "<AxesSubplot:xlabel='training_iteration', ylabel='return'>"
      ]
     },
     "execution_count": 217,
     "metadata": {},
     "output_type": "execute_result"
    },
    {
     "data": {
      "image/png": "[encoded data removed]",
      "text/plain": [
       "<Figure size 640x480 with 1 Axes>"
      ]
     },
     "metadata": {},
     "output_type": "display_data"
    }
   ],
   "source": [
    "student_rewards['agent'] = 'deterministic student'\n",
    "expert_rewards['agent'] = 'expert'\n",
    "df = pd.concat([student_rewards, expert_rewards])\n",
    "sns.lineplot(data=df, x=\"training_iteration\", y=\"return\", hue='agent')"
   ]
  },
  {
   "cell_type": "markdown",
   "id": "eaaa7e70",
   "metadata": {},
   "source": [
    "The student learns so fast we can't really tell its progress on this chart. It's also kind of indistinguishable from the expert. Let's plot the slow student instead."
   ]
  },
  {
   "cell_type": "code",
   "execution_count": 218,
   "id": "556eb440",
   "metadata": {},
   "outputs": [
    {
     "name": "stdout",
     "output_type": "stream",
     "text": [
      "{\n",
      "    \"avg_rollout_return\": 2472.870361328125,\n",
      "    \"std_rollout_return\": 625.6759643554688,\n",
      "    \"avg_rollout_ep_len\": 1000.0,\n",
      "    \"train_loss\": 0.037754155695438385,\n",
      "    \"iteration\": 0\n",
      "}\n",
      "{\n",
      "    \"avg_rollout_return\": 4365.9638671875,\n",
      "    \"std_rollout_return\": 101.13018798828125,\n",
      "    \"avg_rollout_ep_len\": 1000.0,\n",
      "    \"train_loss\": 0.015416349284350872,\n",
      "    \"iteration\": 1\n",
      "}\n",
      "{\n",
      "    \"avg_rollout_return\": 4452.6064453125,\n",
      "    \"std_rollout_return\": 404.5533447265625,\n",
      "    \"avg_rollout_ep_len\": 1000.0,\n",
      "    \"train_loss\": 0.00768670067191124,\n",
      "    \"iteration\": 2\n",
      "}\n",
      "{\n",
      "    \"avg_rollout_return\": 4612.7431640625,\n",
      "    \"std_rollout_return\": 171.84092712402344,\n",
      "    \"avg_rollout_ep_len\": 1000.0,\n",
      "    \"train_loss\": 0.005211961921304464,\n",
      "    \"iteration\": 3\n",
      "}\n",
      "{\n",
      "    \"avg_rollout_return\": 4662.505859375,\n",
      "    \"std_rollout_return\": 113.56459045410156,\n",
      "    \"avg_rollout_ep_len\": 1000.0,\n",
      "    \"train_loss\": 0.003559350036084652,\n",
      "    \"iteration\": 4\n",
      "}\n",
      "{\n",
      "    \"avg_rollout_return\": 4788.0048828125,\n",
      "    \"std_rollout_return\": 114.67072296142578,\n",
      "    \"avg_rollout_ep_len\": 1000.0,\n",
      "    \"train_loss\": 0.001943207927979529,\n",
      "    \"iteration\": 5\n",
      "}\n",
      "{\n",
      "    \"avg_rollout_return\": 4744.33203125,\n",
      "    \"std_rollout_return\": 90.3041763305664,\n",
      "    \"avg_rollout_ep_len\": 1000.0,\n",
      "    \"train_loss\": 0.0023674238473176956,\n",
      "    \"iteration\": 6\n",
      "}\n",
      "{\n",
      "    \"avg_rollout_return\": 4829.47802734375,\n",
      "    \"std_rollout_return\": 80.93421936035156,\n",
      "    \"avg_rollout_ep_len\": 1000.0,\n",
      "    \"train_loss\": 0.001321825198829174,\n",
      "    \"iteration\": 7\n",
      "}\n",
      "{\n",
      "    \"avg_rollout_return\": 4667.0849609375,\n",
      "    \"std_rollout_return\": 114.23710632324219,\n",
      "    \"avg_rollout_ep_len\": 1000.0,\n",
      "    \"train_loss\": 0.0015990562969818711,\n",
      "    \"iteration\": 8\n",
      "}\n",
      "{\n",
      "    \"avg_rollout_return\": 4803.78857421875,\n",
      "    \"std_rollout_return\": 105.96136474609375,\n",
      "    \"avg_rollout_ep_len\": 1000.0,\n",
      "    \"train_loss\": 0.0011518369428813457,\n",
      "    \"iteration\": 9\n",
      "}\n"
     ]
    },
    {
     "data": {
      "text/plain": [
       "<AxesSubplot:xlabel='training_iteration', ylabel='return'>"
      ]
     },
     "execution_count": 218,
     "metadata": {},
     "output_type": "execute_result"
    },
    {
     "data": {
      "image/png": "[encoded data removed]",
      "text/plain": [
       "<Figure size 640x480 with 1 Axes>"
      ]
     },
     "metadata": {},
     "output_type": "display_data"
    }
   ],
   "source": [
    "replay_buffer = ReplayBuffer()\n",
    "student_ant = StochasticModel(obs_dim, act_dim)\n",
    "optimizer = optim.Adam(student_ant.parameters(), learning_rate)\n",
    "metrics, rollouts = run_training_loop(num_iterations, env, student_ant, expert_ant, \n",
    "    replay_buffer, expert_rollouts, loss_func, optimizer)\n",
    "student_rewards = pd.DataFrame([\n",
    "    {'return': r.total_reward, 'training_iteration': i} \n",
    "    for i,eval_rollouts in enumerate(rollouts) \n",
    "    for r in eval_rollouts\n",
    "])\n",
    "student_rewards['agent'] = 'stochastic student'\n",
    "expert_rewards['agent'] = 'expert'\n",
    "df = pd.concat([student_rewards, expert_rewards])\n",
    "sns.lineplot(data=df, x=\"training_iteration\", y=\"return\", hue='agent')"
   ]
  },
  {
   "cell_type": "markdown",
   "id": "58b365e2",
   "metadata": {},
   "source": [
    "Eventually the stochastic ant reaches expert level--it just takes a bit longer than for a deterministic ant. \n",
    "\n",
    "Not let's see if learning by doing improves outcome in the slightly changed environment we explored earlier."
   ]
  },
  {
   "cell_type": "code",
   "execution_count": 219,
   "id": "10269b91",
   "metadata": {},
   "outputs": [],
   "source": [
    "env = gym.make(env_name, use_contact_forces=True, render_mode='rgb_array', terminate_when_unhealthy=False, reset_noise_scale=2)"
   ]
  },
  {
   "cell_type": "code",
   "execution_count": 221,
   "id": "d9938428",
   "metadata": {},
   "outputs": [
    {
     "name": "stdout",
     "output_type": "stream",
     "text": [
      "{\n",
      "    \"avg_rollout_return\": 228.73095703125,\n",
      "    \"std_rollout_return\": 1536.2230224609375,\n",
      "    \"avg_rollout_ep_len\": 1000.0,\n",
      "    \"train_loss\": 0.0016535961767658591,\n",
      "    \"iteration\": 0\n",
      "}\n",
      "{\n",
      "    \"avg_rollout_return\": 275.85113525390625,\n",
      "    \"std_rollout_return\": 274.6333923339844,\n",
      "    \"avg_rollout_ep_len\": 1000.0,\n",
      "    \"train_loss\": 0.0044042449444532394,\n",
      "    \"iteration\": 1\n",
      "}\n",
      "{\n",
      "    \"avg_rollout_return\": 1291.0517578125,\n",
      "    \"std_rollout_return\": 1703.4432373046875,\n",
      "    \"avg_rollout_ep_len\": 1000.0,\n",
      "    \"train_loss\": 0.005161683540791273,\n",
      "    \"iteration\": 2\n",
      "}\n",
      "{\n",
      "    \"avg_rollout_return\": 751.6449584960938,\n",
      "    \"std_rollout_return\": 764.10693359375,\n",
      "    \"avg_rollout_ep_len\": 1000.0,\n",
      "    \"train_loss\": 0.0052405293099582195,\n",
      "    \"iteration\": 3\n",
      "}\n",
      "{\n",
      "    \"avg_rollout_return\": 705.6612548828125,\n",
      "    \"std_rollout_return\": 1096.0367431640625,\n",
      "    \"avg_rollout_ep_len\": 1000.0,\n",
      "    \"train_loss\": 0.00481629092246294,\n",
      "    \"iteration\": 4\n",
      "}\n",
      "{\n",
      "    \"avg_rollout_return\": 1098.263916015625,\n",
      "    \"std_rollout_return\": 1172.6519775390625,\n",
      "    \"avg_rollout_ep_len\": 1000.0,\n",
      "    \"train_loss\": 0.005623183213174343,\n",
      "    \"iteration\": 5\n",
      "}\n",
      "{\n",
      "    \"avg_rollout_return\": 826.7996215820312,\n",
      "    \"std_rollout_return\": 1130.107666015625,\n",
      "    \"avg_rollout_ep_len\": 1000.0,\n",
      "    \"train_loss\": 0.007060112897306681,\n",
      "    \"iteration\": 6\n",
      "}\n",
      "{\n",
      "    \"avg_rollout_return\": 300.0273742675781,\n",
      "    \"std_rollout_return\": 312.2693786621094,\n",
      "    \"avg_rollout_ep_len\": 1000.0,\n",
      "    \"train_loss\": 0.005673221778124571,\n",
      "    \"iteration\": 7\n",
      "}\n",
      "{\n",
      "    \"avg_rollout_return\": 278.3675842285156,\n",
      "    \"std_rollout_return\": 291.89093017578125,\n",
      "    \"avg_rollout_ep_len\": 1000.0,\n",
      "    \"train_loss\": 0.004609385039657354,\n",
      "    \"iteration\": 8\n",
      "}\n",
      "{\n",
      "    \"avg_rollout_return\": 975.5357666015625,\n",
      "    \"std_rollout_return\": 1215.4339599609375,\n",
      "    \"avg_rollout_ep_len\": 1000.0,\n",
      "    \"train_loss\": 0.005734944716095924,\n",
      "    \"iteration\": 9\n",
      "}\n"
     ]
    },
    {
     "data": {
      "text/plain": [
       "<AxesSubplot:xlabel='training_iteration', ylabel='return'>"
      ]
     },
     "execution_count": 221,
     "metadata": {},
     "output_type": "execute_result"
    },
    {
     "data": {
      "image/png": "[encoded data removed]",
      "text/plain": [
       "<Figure size 640x480 with 1 Axes>"
      ]
     },
     "metadata": {},
     "output_type": "display_data"
    }
   ],
   "source": [
    "replay_buffer = ReplayBuffer()\n",
    "student_ant = DeterministicModel(obs_dim, act_dim)\n",
    "optimizer = optim.Adam(student_ant.parameters(), learning_rate)\n",
    "metrics, rollouts = run_training_loop(num_iterations, env, student_ant, expert_ant, \n",
    "    replay_buffer, expert_rollouts, loss_func, optimizer)\n",
    "student_rewards = pd.DataFrame([\n",
    "    {'return': r.total_reward, 'training_iteration': i} \n",
    "    for i,eval_rollouts in enumerate(rollouts) \n",
    "    for r in eval_rollouts\n",
    "])\n",
    "expert_eval_rollouts = [\n",
    "    evaluate_policy(env, expert_ant, num_evaluation_steps=10000)\n",
    "    for _ in range(num_iterations)\n",
    "]\n",
    "expert_rewards = pd.DataFrame([\n",
    "    {'return': r.total_reward, 'training_iteration': i} \n",
    "    for i,eval_rollouts in enumerate(expert_eval_rollouts) \n",
    "    for r in eval_rollouts\n",
    "])\n",
    "student_rewards['agent'] = 'deterministic student'\n",
    "expert_rewards['agent'] = 'expert'\n",
    "df = pd.concat([student_rewards, expert_rewards])\n",
    "sns.lineplot(data=df, x=\"training_iteration\", y=\"return\", hue='agent')"
   ]
  },
  {
   "cell_type": "markdown",
   "id": "0b0047b5",
   "metadata": {},
   "source": [
    "It turns out that our expert is in fact a \"narrow\" expert. It too was only trained with initial states in a limited range. Therefore, it can't really help our student in this changed environment. That said, in theory, learning by doing here would supplant strict behavioral cloning."
   ]
  },
  {
   "cell_type": "code",
   "execution_count": null,
   "id": "16e0e3d5",
   "metadata": {},
   "outputs": [],
   "source": []
  }
 ],
 "metadata": {
  "kernelspec": {
   "display_name": "py39",
   "language": "python",
   "name": "py39"
  },
  "language_info": {
   "codemirror_mode": {
    "name": "ipython",
    "version": 3
   },
   "file_extension": ".py",
   "mimetype": "text/x-python",
   "name": "python",
   "nbconvert_exporter": "python",
   "pygments_lexer": "ipython3",
   "version": "3.9.13"
  }
 },
 "nbformat": 4,
 "nbformat_minor": 5
}
